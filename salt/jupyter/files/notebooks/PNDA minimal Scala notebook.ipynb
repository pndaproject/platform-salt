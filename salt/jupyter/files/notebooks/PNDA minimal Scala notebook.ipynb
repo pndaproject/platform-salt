{
 "cells": [
  {
   "cell_type": "code",
   "execution_count": null,
   "metadata": {
    "collapsed": false
   },
   "outputs": [],
   "source": [
    "println(\"Hello. Greetings!!\")"
   ]
  },
  {
   "cell_type": "code",
   "execution_count": null,
   "metadata": {
    "collapsed": false
   },
   "outputs": [],
   "source": [
    "//String concatenation\n",
    "var str1 = \"You have selected \";\n",
    "var str2 =  \"Jupyter Scala Kernel\"\n",
    "println(\"Wecome!! \" + str1 + str2);"
   ]
  },
  {
   "cell_type": "code",
   "execution_count": null,
   "metadata": {
    "collapsed": false
   },
   "outputs": [],
   "source": [
    "// Sorting strings based on length\n",
    "val words = List(\"sample\", \"notebook\", \"in\", \"scala\", \"kernel\")\n",
    "val result = words.sortWith((x, y) => x.length() < y.length())"
   ]
  },
  {
   "cell_type": "code",
   "execution_count": null,
   "metadata": {
    "collapsed": false
   },
   "outputs": [],
   "source": [
    "//Sorting of numbers in ascending order\n",
    "List(10, 5, 8, 16, 66, 51, 12, 27).sortWith(_ < _)"
   ]
  },
  {
   "cell_type": "code",
   "execution_count": null,
   "metadata": {
    "collapsed": false
   },
   "outputs": [],
   "source": [
    "//Filtering a list into two categories\n",
    "val (passed, failed) = List.fill(20)(100).map(scala.util.Random.nextInt) partition ( _ > 50)"
   ]
  }
 ],
 "metadata": {
  "kernelspec": {
   "display_name": "Scala",
   "language": "scala",
   "name": "jupyter_scala"
  },
  "language_info": {
   "codemirror_mode": "text/x-scala",
   "file_extension": ".scala",
   "mimetype": "text/x-scala",
   "name": "scala211",
   "nbconvert_exporter": "script",
   "pygments_lexer": "scala",
   "version": "2.11.11"
  }
 },
 "nbformat": 4,
 "nbformat_minor": 2
}
